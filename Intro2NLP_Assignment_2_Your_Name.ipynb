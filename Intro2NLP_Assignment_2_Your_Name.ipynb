{
 "cells": [
  {
   "cell_type": "markdown",
   "id": "981ce393",
   "metadata": {
    "id": "981ce393"
   },
   "source": [
    "# Introduction to Natural Language Processing: Assignment 2\n",
    "\n",
    "In this exercise we'll practice features extraction using Tf-Idf and SpaCy as well as multiclass text classification using the word embedding technique.\n",
    "\n",
    "- You can use built-in Python packages, spaCy, scikit-learn, Numpy and Pandas.\n",
    "- Please comment your code\n",
    "- Submissions are due Tuesdays at 23:59 **only** on eCampus: **Assignmnets >> Student Submissions >> Assignment 3 (Deadline: 12.11.2024, at 23:59)**\n",
    "\n",
    "- Name the file aproppriately: \"Assignment_2_\\<Your_Name\\>.ipynb\" and submit only the Jupyter Notebook file.\n",
    "- If you are working in a group of two, please have the names of both of the members in the file name.\n",
    "- Please use relative path, your code should work on my computer if the Jupyter Notebook and the file are both in the same directory.\n",
    "\n",
    "Example: file_name = bbc-news.csv, **DON'T use:** /Users/ComputerName/Username/Documents/.../bbc-news.csv"
   ]
  },
  {
   "cell_type": "markdown",
   "id": "d1325c5b",
   "metadata": {
    "id": "d1325c5b"
   },
   "source": [
    "### Task 1 (2 points)\n",
    "\n",
    "Write a function `extract_proper_nouns(my_file_name)` that takes a file name (my_file_name.txt) as input and returns a list containing all proper nouns with more than one token.\n",
    "\n",
    "**Example:**\n",
    "\n",
    "text = \"Honk Kong and Japan are two countries in Asia and New York is the largest city in the world\"\n",
    "\n",
    "return = `[\"New York\", \"Hong Kong\"]` **(Note: it should not return \"Japan\")**"
   ]
  },
  {
   "cell_type": "code",
   "execution_count": 52,
   "id": "92133a54",
   "metadata": {
    "id": "92133a54"
   },
   "outputs": [],
   "source": [
    "import spacy\n",
    "\n",
    "def extract_proper_nouns(my_file_name):\n",
    "    # Load the spaCy model\n",
    "    nlp = spacy.load(\"en_core_web_sm\")\n",
    "\n",
    "    with open(my_file_name, 'r') as file:\n",
    "        text = file.read()\n",
    "        \n",
    "    doc = nlp(text)\n",
    "    several_token_propn = []\n",
    "    # Extract named entities\n",
    "    for ent in doc.ents:\n",
    "        # Check if the entity is a proper noun\n",
    "        if ent.label_ == \"GPE\" or ent.label_ == \"PERSON\" or ent.label_ == \"ORG\":\n",
    "            if len(ent.text.split()) > 1:\n",
    "                several_token_propn.append(ent.text)\n",
    "        \n",
    "    return several_token_propn"
   ]
  },
  {
   "cell_type": "code",
   "execution_count": 5,
   "id": "d5436a9c",
   "metadata": {},
   "outputs": [
    {
     "data": {
      "text/plain": [
       "['Natural Language Processing']"
      ]
     },
     "execution_count": 5,
     "metadata": {},
     "output_type": "execute_result"
    }
   ],
   "source": [
    "extract_proper_nouns('./test_name.txt')"
   ]
  },
  {
   "cell_type": "markdown",
   "id": "8d0a669e",
   "metadata": {
    "id": "8d0a669e"
   },
   "source": [
    "### Task 2 (3 points)\n",
    "\n",
    "Write a function `common_lemma(my_file_name)` that takes a file name (my_file_name.txt) as input and returns a Python dictionary with lemmas as `key` and the `value` that should contain a list with both verbs and nouns sharing the same lemma.\n",
    "\n",
    "**Examples:**\n",
    "\n",
    "1.\n",
    "text = \"When users google for a word or any query, their system internally runs a pipeline in order to process what the person is querying.\"\n",
    "\n",
    "return = `{\"query\": [\"query\", \"querying\"]}`\n",
    "\n",
    "2.\n",
    "text = I really loved the movie and show, the movie was showing reality but it showed sometimes nonesense!\n",
    "\n",
    "return = `{\"show\": [\"show\", \"showing\", \"showed\"]}` **(Note: it should not return \"movie\" because both \"movie\"s are NOUN)**"
   ]
  },
  {
   "cell_type": "code",
   "execution_count": 53,
   "id": "8fab5733",
   "metadata": {
    "id": "8fab5733"
   },
   "outputs": [],
   "source": [
    "def common_lemma(my_file_name):\n",
    "    tokens_with_common_lemma = {}\n",
    "    # Load the spaCy model\n",
    "    nlp = spacy.load(\"en_core_web_sm\")\n",
    "\n",
    "    with open(my_file_name, 'r') as file:\n",
    "        text = file.read()\n",
    "\n",
    "    doc = nlp(text)\n",
    "    for token in doc:\n",
    "        # Check if the token is already in the dictionary\n",
    "        if token.lemma_ not in tokens_with_common_lemma:\n",
    "            tokens_with_common_lemma[token.lemma_] = [token.text]\n",
    "        else:\n",
    "            tokens_with_common_lemma[token.lemma_].append(token.text)\n",
    "    tokens_with_common_lemma_final = {}\n",
    "    for token in tokens_with_common_lemma:\n",
    "        # Remove duplicates\n",
    "        tokens_with_common_lemma[token] = set(tokens_with_common_lemma[token])\\\n",
    "        # Check if the lemma has more than one token, because we are looking for common lemmas\n",
    "        if len(tokens_with_common_lemma[token]) > 1:\n",
    "            tokens_with_common_lemma_final[token] = tokens_with_common_lemma[token]\n",
    "    return(tokens_with_common_lemma_final)"
   ]
  },
  {
   "cell_type": "code",
   "execution_count": 14,
   "id": "dbc35cc5",
   "metadata": {},
   "outputs": [
    {
     "data": {
      "text/plain": [
       "{'show': {'show', 'showed', 'showing'},\n",
       " 'be': {'is', 'was'},\n",
       " 'query': {'query', 'querying'}}"
      ]
     },
     "execution_count": 14,
     "metadata": {},
     "output_type": "execute_result"
    }
   ],
   "source": [
    "common_lemma('./test_lemma.txt')"
   ]
  },
  {
   "cell_type": "markdown",
   "id": "d46d27e0-56fc-40b9-b510-b2d94c90bcf3",
   "metadata": {
    "id": "d46d27e0-56fc-40b9-b510-b2d94c90bcf3"
   },
   "source": [
    "### Task 3 (1 point)\n",
    "\n",
    "Load the data `bbc-text.csv`; This datata consists of 2225 documents from the BBC news website corresponding to stories from 2004-2005."
   ]
  },
  {
   "cell_type": "code",
   "execution_count": 25,
   "id": "fac56bf9-aba8-48c7-9dcd-a46d53426f82",
   "metadata": {
    "id": "fac56bf9-aba8-48c7-9dcd-a46d53426f82"
   },
   "outputs": [
    {
     "data": {
      "text/html": [
       "<div>\n",
       "<style scoped>\n",
       "    .dataframe tbody tr th:only-of-type {\n",
       "        vertical-align: middle;\n",
       "    }\n",
       "\n",
       "    .dataframe tbody tr th {\n",
       "        vertical-align: top;\n",
       "    }\n",
       "\n",
       "    .dataframe thead th {\n",
       "        text-align: right;\n",
       "    }\n",
       "</style>\n",
       "<table border=\"1\" class=\"dataframe\">\n",
       "  <thead>\n",
       "    <tr style=\"text-align: right;\">\n",
       "      <th></th>\n",
       "      <th>category</th>\n",
       "      <th>text</th>\n",
       "    </tr>\n",
       "  </thead>\n",
       "  <tbody>\n",
       "    <tr>\n",
       "      <th>0</th>\n",
       "      <td>tech</td>\n",
       "      <td>tv future in the hands of viewers with home th...</td>\n",
       "    </tr>\n",
       "    <tr>\n",
       "      <th>1</th>\n",
       "      <td>business</td>\n",
       "      <td>worldcom boss  left books alone  former worldc...</td>\n",
       "    </tr>\n",
       "    <tr>\n",
       "      <th>2</th>\n",
       "      <td>sport</td>\n",
       "      <td>tigers wary of farrell  gamble  leicester say ...</td>\n",
       "    </tr>\n",
       "    <tr>\n",
       "      <th>3</th>\n",
       "      <td>sport</td>\n",
       "      <td>yeading face newcastle in fa cup premiership s...</td>\n",
       "    </tr>\n",
       "    <tr>\n",
       "      <th>4</th>\n",
       "      <td>entertainment</td>\n",
       "      <td>ocean s twelve raids box office ocean s twelve...</td>\n",
       "    </tr>\n",
       "  </tbody>\n",
       "</table>\n",
       "</div>"
      ],
      "text/plain": [
       "        category                                               text\n",
       "0           tech  tv future in the hands of viewers with home th...\n",
       "1       business  worldcom boss  left books alone  former worldc...\n",
       "2          sport  tigers wary of farrell  gamble  leicester say ...\n",
       "3          sport  yeading face newcastle in fa cup premiership s...\n",
       "4  entertainment  ocean s twelve raids box office ocean s twelve..."
      ]
     },
     "execution_count": 25,
     "metadata": {},
     "output_type": "execute_result"
    }
   ],
   "source": [
    "import pandas as pd\n",
    "df_bbc = pd.read_csv('bbc-news.csv')\n",
    "df_bbc.head()"
   ]
  },
  {
   "cell_type": "code",
   "execution_count": 26,
   "id": "f3ec8a02",
   "metadata": {},
   "outputs": [
    {
     "data": {
      "text/plain": [
       "'tv future in the hands of viewers with home theatre systems  plasma high-definition tvs  and digital video recorders moving into the living room  the way people watch tv will be radically different in five years  time.  that is according to an expert panel which gathered at the annual consumer electronics show in las vegas to discuss how these new technologies will impact one of our favourite pastimes. with the us leading the trend  programmes and other content will be delivered to viewers via home networks  through cable  satellite  telecoms companies  and broadband service providers to front rooms and portable devices.  one of the most talked-about technologies of ces has been digital and personal video recorders (dvr and pvr). these set-top boxes  like the us s tivo and the uk s sky+ system  allow people to record  store  play  pause and forward wind tv programmes when they want.  essentially  the technology allows for much more personalised tv. they are also being built-in to high-definition tv sets  which are big business in japan and the us  but slower to take off in europe because of the lack of high-definition programming. not only can people forward wind through adverts  they can also forget about abiding by network and channel schedules  putting together their own a-la-carte entertainment. but some us networks and cable and satellite companies are worried about what it means for them in terms of advertising revenues as well as  brand identity  and viewer loyalty to channels. although the us leads in this technology at the moment  it is also a concern that is being raised in europe  particularly with the growing uptake of services like sky+.  what happens here today  we will see in nine months to a years  time in the uk   adam hume  the bbc broadcast s futurologist told the bbc news website. for the likes of the bbc  there are no issues of lost advertising revenue yet. it is a more pressing issue at the moment for commercial uk broadcasters  but brand loyalty is important for everyone.  we will be talking more about content brands rather than network brands   said tim hanlon  from brand communications firm starcom mediavest.  the reality is that with broadband connections  anybody can be the producer of content.  he added:  the challenge now is that it is hard to promote a programme with so much choice.   what this means  said stacey jolna  senior vice president of tv guide tv group  is that the way people find the content they want to watch has to be simplified for tv viewers. it means that networks  in us terms  or channels could take a leaf out of google s book and be the search engine of the future  instead of the scheduler to help people find what they want to watch. this kind of channel model might work for the younger ipod generation which is used to taking control of their gadgets and what they play on them. but it might not suit everyone  the panel recognised. older generations are more comfortable with familiar schedules and channel brands because they know what they are getting. they perhaps do not want so much of the choice put into their hands  mr hanlon suggested.  on the other end  you have the kids just out of diapers who are pushing buttons already - everything is possible and available to them   said mr hanlon.  ultimately  the consumer will tell the market they want.   of the 50 000 new gadgets and technologies being showcased at ces  many of them are about enhancing the tv-watching experience. high-definition tv sets are everywhere and many new models of lcd (liquid crystal display) tvs have been launched with dvr capability built into them  instead of being external boxes. one such example launched at the show is humax s 26-inch lcd tv with an 80-hour tivo dvr and dvd recorder. one of the us s biggest satellite tv companies  directtv  has even launched its own branded dvr at the show with 100-hours of recording capability  instant replay  and a search function. the set can pause and rewind tv for up to 90 hours. and microsoft chief bill gates announced in his pre-show keynote speech a partnership with tivo  called tivotogo  which means people can play recorded programmes on windows pcs and mobile devices. all these reflect the increasing trend of freeing up multimedia so that people can watch what they want  when they want.'"
      ]
     },
     "execution_count": 26,
     "metadata": {},
     "output_type": "execute_result"
    }
   ],
   "source": [
    "df_bbc['text'].iloc[0]"
   ]
  },
  {
   "cell_type": "markdown",
   "id": "32d6bf1c-a802-4ca6-a74e-ace4fd914626",
   "metadata": {
    "id": "32d6bf1c-a802-4ca6-a74e-ace4fd914626"
   },
   "source": [
    "### Task 4 (1 point)\n",
    "\n",
    "Show how many articles we have for each topical area (class label) in the dataset using a plot."
   ]
  },
  {
   "cell_type": "code",
   "execution_count": 54,
   "id": "c93ef9d8-52c2-4508-ad94-91525476d9a4",
   "metadata": {
    "id": "c93ef9d8-52c2-4508-ad94-91525476d9a4"
   },
   "outputs": [
    {
     "data": {
      "image/png": "[encoded data removed]",
      "text/plain": [
       "<Figure size 640x480 with 1 Axes>"
      ]
     },
     "metadata": {},
     "output_type": "display_data"
    }
   ],
   "source": [
    "import matplotlib.pyplot as plt\n",
    "\n",
    "# Count the number of articles for each category\n",
    "category_counts = df_bbc['category'].value_counts()\n",
    "\n",
    "category_counts.plot(kind='bar')\n",
    "plt.xlabel('Category')\n",
    "plt.ylabel('Number of Articles')\n",
    "plt.title('Number of Articles per Category')\n",
    "plt.show()"
   ]
  },
  {
   "cell_type": "markdown",
   "id": "cd667360-ae62-4f70-8236-9e9d11ab29d7",
   "metadata": {
    "id": "cd667360-ae62-4f70-8236-9e9d11ab29d7"
   },
   "source": [
    "### Task 5 (2 point)\n",
    "\n",
    "Preprocessing: Define two following functions and apply them to the dataset:\n",
    "1. Remove punctuation\n",
    "2. Remove any numbers"
   ]
  },
  {
   "cell_type": "code",
   "execution_count": 55,
   "id": "8f3d69ff-c80a-468e-a6be-af5538a8c2b9",
   "metadata": {
    "id": "8f3d69ff-c80a-468e-a6be-af5538a8c2b9"
   },
   "outputs": [
    {
     "name": "stderr",
     "output_type": "stream",
     "text": [
      "<>:2: SyntaxWarning: invalid escape sequence '\\w'\n",
      "<>:6: SyntaxWarning: invalid escape sequence '\\d'\n",
      "<>:2: SyntaxWarning: invalid escape sequence '\\w'\n",
      "<>:6: SyntaxWarning: invalid escape sequence '\\d'\n",
      "C:\\Users\\dle\\AppData\\Local\\Temp\\ipykernel_14480\\3652004134.py:2: SyntaxWarning: invalid escape sequence '\\w'\n",
      "  cleaned_corpus = corpus.str.replace('[^\\w\\s]', '', regex=True)\n",
      "C:\\Users\\dle\\AppData\\Local\\Temp\\ipykernel_14480\\3652004134.py:6: SyntaxWarning: invalid escape sequence '\\d'\n",
      "  cleaned_corpus = corpus.str.replace('\\d+', '', regex=True)\n"
     ]
    }
   ],
   "source": [
    "def remove_punctuation(corpus):\n",
    "    cleaned_corpus = corpus.str.replace('[^\\w\\s]', '', regex=True)\n",
    "    return(cleaned_corpus)\n",
    "\n",
    "def remove_numbers(corpus):\n",
    "    cleaned_corpus = corpus.str.replace('\\d+', '', regex=True)\n",
    "    return(cleaned_corpus)"
   ]
  },
  {
   "cell_type": "code",
   "execution_count": 27,
   "id": "b0852504",
   "metadata": {},
   "outputs": [],
   "source": [
    "# Apply the remove_punctuation function\n",
    "df_bbc['text'] = remove_punctuation(df_bbc['text'])\n",
    "\n",
    "# Apply the remove_numbers function\n",
    "df_bbc['text'] = remove_numbers(df_bbc['text'])"
   ]
  },
  {
   "cell_type": "markdown",
   "id": "ba0df6be",
   "metadata": {},
   "source": [
    "### Task 6.1 (1 points)\n",
    "\n",
    "Split the data into training and test set (70% and 30%) using scikit-learn, shuffle it, and set the `seed=101 (random_state)`.\n",
    "\n",
    "**NOTE:** If working with this dataset is not computationaly possible for you, you can work only with a subset of the dataset (i.e., the first 1000 rows) and use only the first 150 tokens for each article. You should point this out in your code."
   ]
  },
  {
   "cell_type": "code",
   "execution_count": 56,
   "id": "3619b0ed-2213-41de-bf9f-95c97344f038",
   "metadata": {
    "id": "3619b0ed-2213-41de-bf9f-95c97344f038"
   },
   "outputs": [],
   "source": [
    "from sklearn.model_selection import train_test_split\n",
    "\n",
    "# Split the data into training and test sets (70% training, 30% test)\n",
    "X_train, X_test, y_train, y_test = train_test_split(df_bbc['text'], df_bbc['category'], test_size=0.3, random_state=101)"
   ]
  },
  {
   "cell_type": "markdown",
   "id": "4f9e7e25",
   "metadata": {},
   "source": [
    "### Task 6.2 (3 points)\n",
    "\n",
    "### **Training models on TF-IDF vectors:**\n",
    "\n",
    "a) Convert each article in your data splits to a vector representation using the tf-idf-vectorizer.\n",
    "\n",
    "b) Using the vectors from the previous step, train the `MLPClassifier` and another model of your choice from the scikit-learn library.\n",
    "\n",
    "c) Test both of your models on the test set from Task 6.1."
   ]
  },
  {
   "cell_type": "code",
   "execution_count": 38,
   "id": "00bc39fe",
   "metadata": {},
   "outputs": [],
   "source": [
    "from sklearn.feature_extraction.text import TfidfVectorizer\n",
    "\n",
    "# Initialize the TF-IDF Vectorizer\n",
    "tfidf_vectorizer = TfidfVectorizer(max_features=5000)\n",
    "\n",
    "# Fit and transform the training data\n",
    "X_train_tfidf = tfidf_vectorizer.fit_transform(X_train)\n",
    "\n",
    "# Transform the test data\n",
    "X_test_tfidf = tfidf_vectorizer.transform(X_test)"
   ]
  },
  {
   "cell_type": "code",
   "execution_count": null,
   "id": "487acab1",
   "metadata": {},
   "outputs": [
    {
     "name": "stdout",
     "output_type": "stream",
     "text": [
      "               precision    recall  f1-score   support\n",
      "\n",
      "     business       0.97      0.99      0.98       155\n",
      "entertainment       0.98      0.96      0.97       117\n",
      "     politics       0.97      0.98      0.98       122\n",
      "        sport       0.99      0.99      0.99       153\n",
      "         tech       0.99      0.98      0.98       121\n",
      "\n",
      "     accuracy                           0.98       668\n",
      "    macro avg       0.98      0.98      0.98       668\n",
      " weighted avg       0.98      0.98      0.98       668\n",
      "\n",
      "[[153   1   1   0   0]\n",
      " [  1 112   3   0   1]\n",
      " [  2   0 120   0   0]\n",
      " [  1   0   0 152   0]\n",
      " [  1   1   0   1 118]]\n"
     ]
    }
   ],
   "source": [
    "from sklearn.neural_network import MLPClassifier\n",
    "from sklearn.metrics import classification_report, confusion_matrix\n",
    "\n",
    "# Initialize the MLPClassifier\n",
    "mlp_classifier = MLPClassifier(hidden_layer_sizes=(100,), max_iter=300, random_state=101)\n",
    "\n",
    "# Train the classifier on the training data\n",
    "mlp_classifier.fit(X_train_tfidf, y_train)\n",
    "\n",
    "# Predict the labels for the test set\n",
    "y_pred_MLP_tfidf = mlp_classifier.predict(X_test_tfidf)\n"
   ]
  },
  {
   "cell_type": "code",
   "execution_count": null,
   "id": "667054a1",
   "metadata": {},
   "outputs": [
    {
     "name": "stdout",
     "output_type": "stream",
     "text": [
      "               precision    recall  f1-score   support\n",
      "\n",
      "     business       0.93      0.97      0.95       155\n",
      "entertainment       0.98      0.96      0.97       117\n",
      "     politics       0.98      0.97      0.97       122\n",
      "        sport       0.98      0.99      0.99       153\n",
      "         tech       0.98      0.93      0.96       121\n",
      "\n",
      "     accuracy                           0.97       668\n",
      "    macro avg       0.97      0.97      0.97       668\n",
      " weighted avg       0.97      0.97      0.97       668\n",
      "\n",
      "[[151   0   3   0   1]\n",
      " [  3 112   0   1   1]\n",
      " [  3   0 118   1   0]\n",
      " [  1   0   0 152   0]\n",
      " [  5   2   0   1 113]]\n"
     ]
    }
   ],
   "source": [
    "from sklearn.ensemble import RandomForestClassifier\n",
    "\n",
    "# Initialize the RandomForestClassifier\n",
    "rf_classifier = RandomForestClassifier(n_estimators=100, random_state=101)\n",
    "\n",
    "# Train the classifier on the training data\n",
    "rf_classifier.fit(X_train_tfidf, y_train)\n",
    "\n",
    "# Predict the labels for the test set\n",
    "y_pred_RF_tfidf = rf_classifier.predict(X_test_tfidf)"
   ]
  },
  {
   "cell_type": "markdown",
   "id": "b1cef728",
   "metadata": {},
   "source": [
    "### Task 6.3 (3 points)\n",
    "\n",
    "### **Training models on SpaCy model vector representation:**\n",
    "\n",
    "a) Convert each article in your data splits to a vector representation using the pre-trained spaCy model. (**Hint:** It should be stored as an array)\n",
    "\n",
    "b) Using the vectors from the previous step, train the `MLPClassifier` and another model of your choice from the scikit-learn library.\n",
    "\n",
    "c) Test both of your models on the test set from Task 6.1."
   ]
  },
  {
   "cell_type": "code",
   "execution_count": 47,
   "id": "5cbcde80",
   "metadata": {},
   "outputs": [],
   "source": [
    "import numpy as np\n",
    "# Load the spaCy model\n",
    "nlp = spacy.load(\"en_core_web_sm\")\n",
    "\n",
    "# Function to convert text to vector using spaCy\n",
    "def text_to_spacy_vector(text_series):\n",
    "    return text_series.apply(lambda x: nlp(x).vector)\n",
    "\n",
    "# Convert the training and test sets to spaCy vectors\n",
    "X_train_spacy = text_to_spacy_vector(X_train)\n",
    "X_test_spacy = text_to_spacy_vector(X_test)\n",
    "\n",
    "# Convert the series of vectors to a numpy array\n",
    "X_train_spacy = np.stack(X_train_spacy.values)\n",
    "X_test_spacy = np.stack(X_test_spacy.values)"
   ]
  },
  {
   "cell_type": "code",
   "execution_count": null,
   "id": "50c660fa",
   "metadata": {},
   "outputs": [
    {
     "name": "stdout",
     "output_type": "stream",
     "text": [
      "               precision    recall  f1-score   support\n",
      "\n",
      "     business       0.77      0.77      0.77       155\n",
      "entertainment       0.68      0.68      0.68       117\n",
      "     politics       0.69      0.69      0.69       122\n",
      "        sport       0.88      0.85      0.87       153\n",
      "         tech       0.73      0.78      0.75       121\n",
      "\n",
      "     accuracy                           0.76       668\n",
      "    macro avg       0.75      0.75      0.75       668\n",
      " weighted avg       0.76      0.76      0.76       668\n",
      "\n",
      "[[120   5  12   1  17]\n",
      " [  7  79  16   8   7]\n",
      " [ 11  11  84   7   9]\n",
      " [  5  11   5 130   2]\n",
      " [ 12  10   4   1  94]]\n"
     ]
    },
    {
     "name": "stderr",
     "output_type": "stream",
     "text": [
      "c:\\Users\\dle\\Documents\\IntroNLP\\nlp\\Lib\\site-packages\\sklearn\\neural_network\\_multilayer_perceptron.py:690: ConvergenceWarning: Stochastic Optimizer: Maximum iterations (300) reached and the optimization hasn't converged yet.\n",
      "  warnings.warn(\n"
     ]
    }
   ],
   "source": [
    "# Initialize the MLPClassifier\n",
    "mlp_classifier = MLPClassifier(hidden_layer_sizes=(100,), max_iter=300, random_state=101)\n",
    "\n",
    "# Train the classifier on the training data\n",
    "mlp_classifier.fit(X_train_spacy, y_train)\n",
    "\n",
    "# Predict the labels for the test set\n",
    "y_pred_MLP_spacy = mlp_classifier.predict(X_test_spacy)"
   ]
  },
  {
   "cell_type": "code",
   "execution_count": null,
   "id": "af79bda1",
   "metadata": {},
   "outputs": [
    {
     "name": "stdout",
     "output_type": "stream",
     "text": [
      "               precision    recall  f1-score   support\n",
      "\n",
      "     business       0.68      0.80      0.74       155\n",
      "entertainment       0.72      0.58      0.64       117\n",
      "     politics       0.65      0.61      0.63       122\n",
      "        sport       0.83      0.85      0.84       153\n",
      "         tech       0.74      0.73      0.73       121\n",
      "\n",
      "     accuracy                           0.73       668\n",
      "    macro avg       0.72      0.71      0.72       668\n",
      " weighted avg       0.73      0.73      0.72       668\n",
      "\n",
      "[[124   7  13   1  10]\n",
      " [ 20  68  10  15   4]\n",
      " [ 15   9  75   7  16]\n",
      " [  4   8  10 130   1]\n",
      " [ 19   2   8   4  88]]\n"
     ]
    }
   ],
   "source": [
    "from sklearn.ensemble import RandomForestClassifier\n",
    "\n",
    "# Initialize the RandomForestClassifier\n",
    "rf_classifier = RandomForestClassifier(n_estimators=100, random_state=101)\n",
    "\n",
    "# Train the classifier on the training data\n",
    "rf_classifier.fit(X_train_spacy, y_train)\n",
    "\n",
    "# Predict the labels for the test set\n",
    "y_pred_RF_spacy = rf_classifier.predict(X_test_spacy)"
   ]
  },
  {
   "cell_type": "markdown",
   "id": "88a53269-9dc6-43a8-a071-dc596beee0cf",
   "metadata": {
    "id": "88a53269-9dc6-43a8-a071-dc596beee0cf"
   },
   "source": [
    "### Task 7 (4 points)\n",
    "\n",
    "Using the predictions from the four classifiers, evaluate the models and report accuracy, recall, precision, f1 scores and confusion matrix for each of them. (**Hint:** You should build a confusion matrix for multi-class classification)"
   ]
  },
  {
   "cell_type": "code",
   "execution_count": 51,
   "id": "d80276a8-e395-4015-a5d8-00fa7b8e051b",
   "metadata": {
    "id": "d80276a8-e395-4015-a5d8-00fa7b8e051b"
   },
   "outputs": [
    {
     "name": "stdout",
     "output_type": "stream",
     "text": [
      "MLP-tfidf\n",
      "               precision    recall  f1-score   support\n",
      "\n",
      "     business       0.97      0.99      0.98       155\n",
      "entertainment       0.98      0.96      0.97       117\n",
      "     politics       0.97      0.98      0.98       122\n",
      "        sport       0.99      0.99      0.99       153\n",
      "         tech       0.99      0.98      0.98       121\n",
      "\n",
      "     accuracy                           0.98       668\n",
      "    macro avg       0.98      0.98      0.98       668\n",
      " weighted avg       0.98      0.98      0.98       668\n",
      "\n",
      "[[153   1   1   0   0]\n",
      " [  1 112   3   0   1]\n",
      " [  2   0 120   0   0]\n",
      " [  1   0   0 152   0]\n",
      " [  1   1   0   1 118]]\n",
      "------------------------------\n",
      "RF-tfidf\n",
      "               precision    recall  f1-score   support\n",
      "\n",
      "     business       0.93      0.97      0.95       155\n",
      "entertainment       0.98      0.96      0.97       117\n",
      "     politics       0.98      0.97      0.97       122\n",
      "        sport       0.98      0.99      0.99       153\n",
      "         tech       0.98      0.93      0.96       121\n",
      "\n",
      "     accuracy                           0.97       668\n",
      "    macro avg       0.97      0.97      0.97       668\n",
      " weighted avg       0.97      0.97      0.97       668\n",
      "\n",
      "[[151   0   3   0   1]\n",
      " [  3 112   0   1   1]\n",
      " [  3   0 118   1   0]\n",
      " [  1   0   0 152   0]\n",
      " [  5   2   0   1 113]]\n",
      "------------------------------\n",
      "MLP-spacy\n",
      "               precision    recall  f1-score   support\n",
      "\n",
      "     business       0.77      0.77      0.77       155\n",
      "entertainment       0.68      0.68      0.68       117\n",
      "     politics       0.69      0.69      0.69       122\n",
      "        sport       0.88      0.85      0.87       153\n",
      "         tech       0.73      0.78      0.75       121\n",
      "\n",
      "     accuracy                           0.76       668\n",
      "    macro avg       0.75      0.75      0.75       668\n",
      " weighted avg       0.76      0.76      0.76       668\n",
      "\n",
      "[[120   5  12   1  17]\n",
      " [  7  79  16   8   7]\n",
      " [ 11  11  84   7   9]\n",
      " [  5  11   5 130   2]\n",
      " [ 12  10   4   1  94]]\n",
      "------------------------------\n",
      "RF-spacy\n",
      "               precision    recall  f1-score   support\n",
      "\n",
      "     business       0.68      0.80      0.74       155\n",
      "entertainment       0.72      0.58      0.64       117\n",
      "     politics       0.65      0.61      0.63       122\n",
      "        sport       0.83      0.85      0.84       153\n",
      "         tech       0.74      0.73      0.73       121\n",
      "\n",
      "     accuracy                           0.73       668\n",
      "    macro avg       0.72      0.71      0.72       668\n",
      " weighted avg       0.73      0.73      0.72       668\n",
      "\n",
      "[[124   7  13   1  10]\n",
      " [ 20  68  10  15   4]\n",
      " [ 15   9  75   7  16]\n",
      " [  4   8  10 130   1]\n",
      " [ 19   2   8   4  88]]\n"
     ]
    }
   ],
   "source": [
    "print('MLP-tfidf')\n",
    "print(classification_report(y_test, y_pred_MLP_tfidf))\n",
    "print(confusion_matrix(y_test, y_pred_MLP_tfidf))\n",
    "print('-'*30)\n",
    "print('RF-tfidf')\n",
    "print(classification_report(y_test, y_pred_RF_tfidf))\n",
    "print(confusion_matrix(y_test, y_pred_RF_tfidf))\n",
    "print('-'*30)\n",
    "print('MLP-spacy')\n",
    "print(classification_report(y_test, y_pred_MLP_spacy))\n",
    "print(confusion_matrix(y_test, y_pred_MLP_spacy))\n",
    "print('-'*30)\n",
    "print('RF-spacy')\n",
    "print(classification_report(y_test, y_pred_RF_spacy))\n",
    "print(confusion_matrix(y_test, y_pred_RF_spacy))"
   ]
  }
 ],
 "metadata": {
  "colab": {
   "provenance": []
  },
  "kernelspec": {
   "display_name": "nlp",
   "language": "python",
   "name": "python3"
  },
  "language_info": {
   "codemirror_mode": {
    "name": "ipython",
    "version": 3
   },
   "file_extension": ".py",
   "mimetype": "text/x-python",
   "name": "python",
   "nbconvert_exporter": "python",
   "pygments_lexer": "ipython3",
   "version": "3.12.6"
  }
 },
 "nbformat": 4,
 "nbformat_minor": 5
}
