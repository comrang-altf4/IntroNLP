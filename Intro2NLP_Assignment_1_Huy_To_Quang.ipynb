{
 "cells": [
  {
   "cell_type": "markdown",
   "id": "5a325897",
   "metadata": {
    "id": "5a325897"
   },
   "source": [
    "# Introduction to Natural Language Processing: Assignment 1\n",
    "\n",
    "In this assignment we'll practice word operations and text classifications.\n",
    "\n",
    "- Please comment your code\n",
    "- You can use built-in Python packages, scikit-learn and Pandas.\n",
    "- Submissions are due **on Tuesdays at 23:59** and should be submitted **ONLY** on eCampus: **Assignmnets >> Student Submissions >> Assignment 1 (Deadline: 05.11.2024, at 23:59)**\n",
    "- Name the file aproppriately \"Assignment_1_\\<Your_Name\\>.ipynb\".\n",
    "- Please submit **ONLY** the Jupyter Notebook file.\n",
    "- Please use relative path; Your code should work on my computer if the Jupyter Notebook and the file are both in the same directory.\n",
    "\n",
    "Example: file_name = lemmatization-en.txt >> **DON'T use:** /Users/ComputerName/Username/Documents/.../lemmatization-en.txt"
   ]
  },
  {
   "cell_type": "markdown",
   "id": "0cd8bf33",
   "metadata": {
    "id": "0cd8bf33"
   },
   "source": [
    "### Task 1.1 (2 points)\n",
    "\n",
    "Write a function `extract_words_tokens(any_string)` that takes a string as input and returns two numbers:\n",
    "1. num_words: The number of words in string\n",
    "2. num_tokens: The number of tokens in string (Please use the character-based tokenization.)\n",
    "\n",
    "**Hint:** The string can be a single word or a sentence and\n",
    " can contain some special charecters, such as: \"!\", \",\", \":\""
   ]
  },
  {
   "cell_type": "code",
   "execution_count": null,
   "id": "f14f3124",
   "metadata": {
    "id": "f14f3124"
   },
   "outputs": [],
   "source": [
    "def extract_words_tokens(any_string):\n",
    "    #here comes your code\n",
    "    num_words = len(any_string.split())\n",
    "    num_tokens = len([char for char in any_string])\n",
    "    return(print(any_string, \":\", \"num_words:\", num_words, \"and\", \"num_tokens:\", num_tokens, \"respectively\"))"
   ]
  },
  {
   "cell_type": "markdown",
   "id": "a4b05add",
   "metadata": {
    "id": "a4b05add"
   },
   "source": [
    "### Task 1.2 (4 points)\n",
    "\n",
    "Write a function `lemmatize(any_string, file_name)` that takes as input any string and a file-name: `lemmatization-en.txt` (please download the file [here](https://github.com/michmech/lemmatization-lists/blob/master/lemmatization-en.txt). It's a tab separated corpus) and returns a dictionary with all words as keys and the lemma of the words as values.\n",
    "\n",
    "**Hint:** To tokenize the string, please use the whitespace as the seperator. The string doesn't contain any special characters."
   ]
  },
  {
   "cell_type": "code",
   "execution_count": 8,
   "id": "a12f48ff",
   "metadata": {
    "id": "a12f48ff"
   },
   "outputs": [],
   "source": [
    "def lemmatize(any_string, file_name):\n",
    "    #here comes your code\n",
    "    tokens = any_string.split()\n",
    "    dictionary_of_lemmatized_words = {}\n",
    "    print(tokens)\n",
    "    with open(file_name, \"r\") as file:\n",
    "        for line in file:\n",
    "            lemma, word = line.split(sep=\"\\t\")\n",
    "            if word in tokens:\n",
    "                dictionary_of_lemmatized_words[word] = lemma\n",
    "    return(print(dictionary_of_lemmatized_words))"
   ]
  },
  {
   "cell_type": "code",
   "execution_count": 9,
   "id": "00e92086",
   "metadata": {},
   "outputs": [
    {
     "name": "stdout",
     "output_type": "stream",
     "text": [
      "['I', 'played', 'badminton', 'today']\n",
      "{}\n"
     ]
    }
   ],
   "source": [
    "lemmatize(\"I played badminton today\", \"lemmatization-en.txt\")"
   ]
  },
  {
   "cell_type": "markdown",
   "id": "c5142598",
   "metadata": {},
   "source": [
    "### Task 2 (1 point)\n",
    "\n",
    "Create a DataFrame using the `polarity.txt` file and give name to the columns appropriately. (e.g., \"Text\", \"Label\")"
   ]
  },
  {
   "cell_type": "code",
   "execution_count": 1,
   "id": "e400715a",
   "metadata": {},
   "outputs": [],
   "source": [
    "#here comes your code\n",
    "import pandas as pd\n",
    "\n",
    "df = pd.read_csv(\"polarity.txt\", sep=\"\\t\", header=None)\n",
    "df.columns = [\"Text\", \"Label\"]"
   ]
  },
  {
   "cell_type": "markdown",
   "id": "23b5eaf4",
   "metadata": {},
   "source": [
    "### Task 2.1 (2 point)\n",
    "\n",
    "Create a new column for the DataFrame that contains labels converted to numerical values instead of strings using the function: `apply()` and drop the original column afterwards.\n",
    "\n",
    "Hint: The numarical values can be any meaningful values, e.g., pos >> 1 and neg >> 0"
   ]
  },
  {
   "cell_type": "code",
   "execution_count": null,
   "id": "8309aebd",
   "metadata": {},
   "outputs": [],
   "source": [
    "# here comes your code\n",
    "df[\"Label_Num\"] = df.apply(lambda x: 1 if x[\"Label\"] == \"pos\" else 0, axis=1)\n",
    "df.drop(\"Label\", axis=1, inplace=True)"
   ]
  },
  {
   "cell_type": "markdown",
   "id": "58b7e88b",
   "metadata": {},
   "source": [
    "### Task 3 (7 points)\n",
    "\n",
    "Write a function `create_count_and_probability` that takes a file (`corpus.txt`) as input and returns a csv file as output containing three columns:\n",
    "1. Text\n",
    "2. Count_Vector\n",
    "3. Probability\n",
    "\n",
    "Example:\n",
    "\n",
    "For the line: `This document is the second document.`\n",
    "\n",
    "The row in the csv file should contain:\n",
    "`This document is the second document.`   `[0,2,0,1,0,1,1,0,1]`   `[1/6, 2/6, 1/6, 1/6, 1/6, 2/6]`\n",
    "\n",
    "**Note**:\n",
    "\n",
    "1. You should define your own function and not use e.g., CountVectorizer() which gives you the `count vector`, directly.\n",
    "\n",
    "2. You can either use the whitespace in `split` as the seperator or use the `Regular Expression (re)` to extract the words, as follows:\n",
    "\n",
    "```\n",
    "import re\n",
    "TEXT = \"Hey, - How are you doing today!?\"\n",
    "words_list = re.findall(r\"[\\w']+\", TEXT)\n",
    "print(words_list)\n",
    "```\n",
    "\n",
    "3. To count the words, you can use e.g., the library: `collections`, more specifically `Counter`.\n",
    "\n",
    "4. Please don't upload the output file. Your function should generate the file."
   ]
  },
  {
   "cell_type": "code",
   "execution_count": 10,
   "id": "26f9f9be",
   "metadata": {},
   "outputs": [],
   "source": [
    "import collections\n",
    "def create_count_and_probability(file_name):\n",
    "    # here comes your code\n",
    "    txt = \"\"\n",
    "    with open(file_name, \"r\") as file:\n",
    "        for line in file:\n",
    "            words = line.split()\n",
    "            count = collections.Counter(words)\n",
    "            total = sum(count.values())\n",
    "            probability = [count[word]/total for word in count.keys()]\n",
    "            \n",
    "            # output line\n",
    "            txt += line.strip() + \",\" + str(list(count.values())) + \",\" + str(probability) + \"\\n\"\n",
    "\n",
    "    with open(\"count_and_probability.txt\", \"w\") as csv_file:\n",
    "        csv_file.write(txt)"
   ]
  },
  {
   "cell_type": "code",
   "execution_count": 11,
   "id": "82998873",
   "metadata": {},
   "outputs": [],
   "source": [
    "create_count_and_probability('./corpus.txt')"
   ]
  },
  {
   "cell_type": "markdown",
   "id": "e701a2ce",
   "metadata": {},
   "source": [
    "### Task 4 (8 points)\n",
    "\n",
    "The goal of this task is to train and test classifiers provided in scikit-learn, using two datasets `rural.txt` and `science.txt`.\n",
    "\n",
    "a) Each file (rural and science) contains sentence-wise documents. You should create a dataframe containing two columns: \"Document\" and \" Class\", as shown below. This dataframe will be used later as input for the vectorizer.\n",
    "\n",
    "|Document                             |Class |\n",
    "| ------------------------------------|----- |\n",
    "|PM denies knowledge of AWB kickbacks | rural |\n",
    "|The crocodile ancestor fossil, found...| science |\n",
    "\n",
    "\n",
    "b) Remove stop words from the data and create two separate plots showing word frequency for documents in each label.\n",
    "\n",
    "c) Split the data into train (70%) and test (30%) sets and use the following vectorization techniquess to train the two classifiers provided by scikit-learn:\n",
    "\n",
    "- one-hot-encoding\n",
    "- count vectorization\n",
    "\n",
    "Classifiers:\n",
    "- naive_bayes.GaussianNB()\n",
    "- LogisticRegression()\n",
    "\n",
    "**Hints:**\n",
    "1. The Gaussian NB Classifier takes a dense matrix as input and the output of the vectorizer is a sparse matrix. Use my_matrix.toarray() for this conversion.\n",
    "2. You can play around with various parameters in both the count-vectorizer and the classifier to get a better performance in terms of the accuracy. (In the exercise, we will discuss the accuracy of your model.)"
   ]
  },
  {
   "cell_type": "code",
   "execution_count": 13,
   "id": "c19367cf",
   "metadata": {},
   "outputs": [
    {
     "name": "stdout",
     "output_type": "stream",
     "text": [
      "(550, 2)\n",
      "(574, 2)\n",
      "(1124, 2)\n"
     ]
    }
   ],
   "source": [
    "# here comes your code\n",
    "import pandas as pd\n",
    "# from nltk.corpus import stopwords\n",
    "\n",
    "# read the data\n",
    "rural = open(\"rural.txt\", \"r\").read()\n",
    "rural = rural.split(\"\\n\")\n",
    "\n",
    "rural_df = pd.DataFrame(rural)\n",
    "rural_df.columns = [\"Document\"]\n",
    "rural_df[\"Class\"] = \"rural\"\n",
    "print(rural_df.shape)\n",
    "\n",
    "science = open(\"science.txt\", \"r\").read()\n",
    "science = science.split(\"\\n\")\n",
    "\n",
    "science_df = pd.DataFrame(science)\n",
    "science_df.columns = [\"Document\"]\n",
    "science_df[\"Class\"] = \"science\"\n",
    "print(science_df.shape)\n",
    "\n",
    "# concatenate the data\n",
    "df = pd.concat([rural_df, science_df], axis=0)\n",
    "print(df.shape)"
   ]
  },
  {
   "cell_type": "code",
   "execution_count": 12,
   "id": "ac689b3b",
   "metadata": {},
   "outputs": [
    {
     "data": {
      "image/png": "[encoded data removed]",
      "text/plain": [
       "<Figure size 1000x500 with 1 Axes>"
      ]
     },
     "metadata": {},
     "output_type": "display_data"
    }
   ],
   "source": [
    "# create a bag of words\n",
    "from sklearn.feature_extraction.text import CountVectorizer\n",
    "\n",
    "vectorizer = CountVectorizer(stop_words=\"english\")\n",
    "X = vectorizer.fit_transform(rural_df[\"Document\"])\n",
    "\n",
    "import matplotlib.pyplot as plt\n",
    "\n",
    "# plot the word frequency\n",
    "plt.figure(figsize=(10, 5))\n",
    "plt.bar(vectorizer.get_feature_names_out(), X.toarray().sum(axis=0))\n",
    "plt.xticks(rotation=90)\n",
    "plt.show()"
   ]
  },
  {
   "cell_type": "code",
   "execution_count": 16,
   "id": "7d387ed9",
   "metadata": {},
   "outputs": [],
   "source": [
    "# create a bag of words\n",
    "from sklearn.feature_extraction.text import CountVectorizer\n",
    "\n",
    "vectorizer = CountVectorizer(stop_words=\"english\")\n",
    "X = vectorizer.fit_transform(science_df[\"Document\"])\n",
    "\n",
    "import matplotlib.pyplot as plt\n",
    "\n",
    "# plot the word frequency\n",
    "# plt.figure(figsize=(10, 5))\n",
    "# plt.bar(vectorizer.get_feature_names_out(), X.toarray().sum(axis=0))\n",
    "# plt.xticks(rotation=90)\n",
    "# plt.show()"
   ]
  },
  {
   "cell_type": "code",
   "execution_count": 19,
   "id": "60e02dae",
   "metadata": {},
   "outputs": [
    {
     "data": {
      "text/html": [
       "<div>\n",
       "<style scoped>\n",
       "    .dataframe tbody tr th:only-of-type {\n",
       "        vertical-align: middle;\n",
       "    }\n",
       "\n",
       "    .dataframe tbody tr th {\n",
       "        vertical-align: top;\n",
       "    }\n",
       "\n",
       "    .dataframe thead th {\n",
       "        text-align: right;\n",
       "    }\n",
       "</style>\n",
       "<table border=\"1\" class=\"dataframe\">\n",
       "  <thead>\n",
       "    <tr style=\"text-align: right;\">\n",
       "      <th></th>\n",
       "      <th>Document</th>\n",
       "      <th>Class</th>\n",
       "    </tr>\n",
       "  </thead>\n",
       "  <tbody>\n",
       "    <tr>\n",
       "      <th>0</th>\n",
       "      <td>PM denies knowledge of AWB kickbacks</td>\n",
       "      <td>rural</td>\n",
       "    </tr>\n",
       "    <tr>\n",
       "      <th>1</th>\n",
       "      <td>The Prime Minister has denied he knew AWB was ...</td>\n",
       "      <td>rural</td>\n",
       "    </tr>\n",
       "    <tr>\n",
       "      <th>2</th>\n",
       "      <td>Letters from John Howard and Deputy Prime Mini...</td>\n",
       "      <td>rural</td>\n",
       "    </tr>\n",
       "    <tr>\n",
       "      <th>3</th>\n",
       "      <td>In one of the letters Mr Howard asks AWB manag...</td>\n",
       "      <td>rural</td>\n",
       "    </tr>\n",
       "    <tr>\n",
       "      <th>4</th>\n",
       "      <td>The Opposition's Gavan O'Connor says the lette...</td>\n",
       "      <td>rural</td>\n",
       "    </tr>\n",
       "    <tr>\n",
       "      <th>...</th>\n",
       "      <td>...</td>\n",
       "      <td>...</td>\n",
       "    </tr>\n",
       "    <tr>\n",
       "      <th>569</th>\n",
       "      <td>Sutherland says laboratory tests show the DS4G...</td>\n",
       "      <td>science</td>\n",
       "    </tr>\n",
       "    <tr>\n",
       "      <th>570</th>\n",
       "      <td>\"The underlying technology has been around for...</td>\n",
       "      <td>science</td>\n",
       "    </tr>\n",
       "    <tr>\n",
       "      <th>571</th>\n",
       "      <td>Sutherland says missions to Pluto and the Kuip...</td>\n",
       "      <td>science</td>\n",
       "    </tr>\n",
       "    <tr>\n",
       "      <th>572</th>\n",
       "      <td>\"All of that within the working lifetime of a ...</td>\n",
       "      <td>science</td>\n",
       "    </tr>\n",
       "    <tr>\n",
       "      <th>573</th>\n",
       "      <td></td>\n",
       "      <td>science</td>\n",
       "    </tr>\n",
       "  </tbody>\n",
       "</table>\n",
       "<p>1124 rows × 2 columns</p>\n",
       "</div>"
      ],
      "text/plain": [
       "                                              Document    Class\n",
       "0                 PM denies knowledge of AWB kickbacks    rural\n",
       "1    The Prime Minister has denied he knew AWB was ...    rural\n",
       "2    Letters from John Howard and Deputy Prime Mini...    rural\n",
       "3    In one of the letters Mr Howard asks AWB manag...    rural\n",
       "4    The Opposition's Gavan O'Connor says the lette...    rural\n",
       "..                                                 ...      ...\n",
       "569  Sutherland says laboratory tests show the DS4G...  science\n",
       "570  \"The underlying technology has been around for...  science\n",
       "571  Sutherland says missions to Pluto and the Kuip...  science\n",
       "572  \"All of that within the working lifetime of a ...  science\n",
       "573                                                     science\n",
       "\n",
       "[1124 rows x 2 columns]"
      ]
     },
     "execution_count": 19,
     "metadata": {},
     "output_type": "execute_result"
    }
   ],
   "source": [
    "df"
   ]
  },
  {
   "cell_type": "code",
   "execution_count": null,
   "id": "f0130999",
   "metadata": {},
   "outputs": [
    {
     "name": "stdout",
     "output_type": "stream",
     "text": [
      "0.9023668639053254\n"
     ]
    }
   ],
   "source": [
    "from sklearn.naive_bayes import GaussianNB\n",
    "from sklearn.model_selection import train_test_split\n",
    "from sklearn.preprocessing import OneHotEncoder\n",
    "from sklearn.compose import make_column_transformer\n",
    "\n",
    "# encode the class\n",
    "encoder = OneHotEncoder()\n",
    "column_transformer = make_column_transformer((encoder, [\"Class\"]))\n",
    "df[\"Class\"] = column_transformer.fit_transform(df)\n",
    "\n",
    "# split the data\n",
    "X_train, X_test, y_train, y_test = train_test_split(df[\"Document\"], df[\"Class\"], test_size=0.3, random_state=24)\n",
    "\n",
    "# create a bag of words\n",
    "vectorizer = CountVectorizer(stop_words=\"english\")\n",
    "X_train = vectorizer.fit_transform(X_train)\n",
    "X_test = vectorizer.transform(X_test)\n",
    "\n",
    "# train the model\n",
    "model = GaussianNB()\n",
    "model.fit(X_train.toarray(), y_train)\n",
    "\n",
    "# predict the test data\n",
    "y_pred = model.predict(X_test.toarray())\n",
    "\n",
    "# evaluate the model\n",
    "from sklearn.metrics import accuracy_score\n",
    "\n",
    "accuracy = accuracy_score(y_test, y_pred)\n",
    "print(accuracy)"
   ]
  },
  {
   "cell_type": "code",
   "execution_count": 25,
   "id": "1762a071",
   "metadata": {},
   "outputs": [
    {
     "name": "stdout",
     "output_type": "stream",
     "text": [
      "0.9289940828402367\n"
     ]
    }
   ],
   "source": [
    "from sklearn.linear_model import LogisticRegression\n",
    "\n",
    "# train the model\n",
    "model = LogisticRegression()\n",
    "model.fit(X_train, y_train)\n",
    "\n",
    "# predict the test data\n",
    "y_pred = model.predict(X_test)\n",
    "\n",
    "# evaluate the model\n",
    "from sklearn.metrics import accuracy_score\n",
    "\n",
    "accuracy = accuracy_score(y_test, y_pred)\n",
    "print(accuracy)"
   ]
  }
 ],
 "metadata": {
  "colab": {
   "provenance": []
  },
  "kernelspec": {
   "display_name": "Python 3",
   "language": "python",
   "name": "python3"
  },
  "language_info": {
   "codemirror_mode": {
    "name": "ipython",
    "version": 3
   },
   "file_extension": ".py",
   "mimetype": "text/x-python",
   "name": "python",
   "nbconvert_exporter": "python",
   "pygments_lexer": "ipython3",
   "version": "3.12.6"
  }
 },
 "nbformat": 4,
 "nbformat_minor": 5
}
